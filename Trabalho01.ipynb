{
 "cells": [
  {
   "cell_type": "markdown",
   "metadata": {},
   "source": [
    "# Trabalho M210\n",
    "\n",
    "| Matricula | Alunos                      |\n",
    "|-----------|-----------------------------|\n",
    "| 1411      | Danilo Vidal Ribeiro        |\n",
    "| 9365      | Aryel Lopes de Almeida Lima |"
<<<<<<< HEAD
   ]
=======
   ],
   "cell_type": "markdown",
   "metadata": {}
>>>>>>> 9815e7f7922fa196401789adc4066b179cd14605
  },
  {
   "cell_type": "markdown",
   "metadata": {},
   "source": [
    "### Exercício 1\n",
    "A empresa de produção de azeite, Azei Tinho S/A, oferece quatro tipos de azeite ao cliente: azeite do tipo 1 (azeite extravirgem com porcentagem de ácido oleico inferior a 1%), azeite do tipo 2 (virgem, com acidez entre 1% e 2%), azeite do tipo 3 (corrente, com acidez entre 2% e 3.3%) e azeite do tipo 4 (com acidez superior a 3.3%, utilizado na área farmacêutica, cosmética, dentre outras).\n",
    "\n",
    "O processo produtivo de qualquer tipo de azeite é constituído por três etapas: prensagem, refino e embalagem, sendo que as respectivas limitações mensais são de 650, 700 e 700 horas-máquina (hm). Cem litros de azeite do tipo 1 necessitam de 1hm de prensagem, 2hm de refino e 1.5hm de embalagem. O azeite do tipo 2 necessita de 1.5, 1.5, 1.25hm respectivamente. O azeite do tipo 3 necessita de 0.75, 2.5, 1.25hm, respectivamente.\n",
    "\n",
    "Por fim, o azeite do tipo 4 precisa de 1.25, 1.5, 1.5hm, respectivamente. Devido à utilização diferente de cada uma das etapas do processo produtivo, cada tipo de azeite tem uma margem bruta diferente. Assim sendo, o azeite tipo 1 tem uma margem de R\\$40 para cada 100 litros, o azeite do tipo 2, de R\\$32, o azeite do tipo 3, de R\\$35 e o azeite do tipo 4, de R\\$36."
   ]
  },
  {
   "cell_type": "code",
   "execution_count": 10,
   "metadata": {},
   "outputs": [],
   "source": [
    "from pulp import LpMaximize, LpProblem, LpStatus, lpSum, LpVariable"
   ]
  },
  {
   "cell_type": "code",
   "execution_count": 11,
   "metadata": {},
   "outputs": [],
   "source": [
    "model = LpProblem(name=\"AzeiTinhoSA\", sense=LpMaximize)"
   ]
  },
  {
   "cell_type": "code",
   "execution_count": 12,
   "metadata": {},
   "outputs": [],
   "source": [
    "x1 = LpVariable(name=\"x1\", lowBound=0)\n",
    "x2 = LpVariable(name=\"x2\", lowBound=0)\n",
    "x3 = LpVariable(name=\"x3\", lowBound=0)\n",
    "x4 = LpVariable(name=\"x4\", lowBound=0)"
   ]
  },
  {
   "cell_type": "code",
   "execution_count": 13,
   "metadata": {},
   "outputs": [],
   "source": [
    "model += (100 * x1    +   150 * x2    +    75 * x3  +   125 * x4    <=  65000, \"con 01\")\n",
    "model += (200 * x1    +   150 * x2    +   250 * x3  +   150 * x4    <=  70000, \"con 02\")\n",
    "model += (150 * x1    +   125 * x2    +   125 * x3  +   150 * x4    <=  70000, \"con 03\")"
   ]
  },
  {
   "cell_type": "code",
   "execution_count": 14,
   "metadata": {},
   "outputs": [],
   "source": [
    "obj_func = 4000 * x1 + 3200 * x2 + 3500 * x3 +  3600 * x4\n",
    "model += obj_func"
   ]
  },
  {
   "cell_type": "code",
   "execution_count": 15,
   "metadata": {},
   "outputs": [
    {
     "name": "stdout",
     "output_type": "stream",
     "text": [
      "status: 1, Optimal\n",
      "objective: 1680000.012\n",
      "x1: 0.0\n",
      "x2: 0.0\n",
      "x3: 0.0\n",
      "x4: 466.66667\n",
      "con_01: -6666.666250000002\n",
      "con_02: 0.0004999999946448952\n",
      "con_03: 0.0004999999946448952\n"
     ]
    }
   ],
   "source": [
    "status = model.solve()\n",
    "\n",
    "print(f\"status: {model.status}, {LpStatus[model.status]}\")\n",
    "\n",
    "print(f\"objective: {model.objective.value()}\")\n",
    "\n",
    "for var in model.variables():\n",
    "    print(f\"{var.name}: {var.value()}\")\n",
    "\n",
    "for name, constraint in model.constraints.items():\n",
    "    print(f\"{name}: {constraint.value()}\")"
   ]
  },
  {
   "cell_type": "markdown",
   "metadata": {},
   "source": [
    "### Respostas\n",
    "#### a) Apresente o modelo matemático."
   ]
  },
  {
   "cell_type": "code",
   "execution_count": 16,
   "metadata": {},
   "outputs": [
    {
     "data": {
      "text/plain": [
       "AzeiTinhoSA:\n",
       "MAXIMIZE\n",
       "4000*x1 + 3200*x2 + 3500*x3 + 3600*x4 + 0\n",
       "SUBJECT TO\n",
       "con_01: 100 x1 + 150 x2 + 75 x3 + 125 x4 <= 65000\n",
       "\n",
       "con_02: 200 x1 + 150 x2 + 250 x3 + 150 x4 <= 70000\n",
       "\n",
       "con_03: 150 x1 + 125 x2 + 125 x3 + 150 x4 <= 70000\n",
       "\n",
       "VARIABLES\n",
       "x1 Continuous\n",
       "x2 Continuous\n",
       "x3 Continuous\n",
       "x4 Continuous"
      ]
     },
     "execution_count": 16,
     "metadata": {},
     "output_type": "execute_result"
    }
   ],
   "source": [
    "# a)\n",
    "model"
   ]
  },
  {
   "cell_type": "markdown",
   "metadata": {},
   "source": [
    "#### b) Apresente a solução ótima."
   ]
  },
  {
   "cell_type": "code",
   "execution_count": 17,
   "metadata": {},
   "outputs": [
    {
     "name": "stdout",
     "output_type": "stream",
     "text": [
      "A solução ótima é:\n",
      "*Z = 1680000.012\n",
      "x1: 0.0\n",
      "x2: 0.0\n",
      "x3: 0.0\n",
      "x4: 466.66667\n"
     ]
    }
   ],
   "source": [
    "print(\"A solução ótima é:\")\n",
    "print(f\"*Z = {model.objective.value()}\")\n",
    "\n",
    "for var in model.variables():\n",
    "    print(f\"{var.name}: {var.value()}\")"
   ]
  },
  {
   "cell_type": "markdown",
   "metadata": {},
   "source": [
    "#### c) Considere agora que a empresa tenha que produzir uma quantidade maior de azeite devido a uma encomenda de última hora. Este cliente necessita de, pelo menos, 10000 litros de azeite tipo 3 e 5000 litros de azeite tipo 4. Reescreva a nova formulação matemática do problema, definindo cada variável utilizada."
   ]
  },
  {
   "cell_type": "code",
   "execution_count": 23,
   "metadata": {},
   "outputs": [
    {
     "name": "stdout",
     "output_type": "stream",
     "text": [
      "PRESIDENTEQUISAZEITE:\n",
      "MAXIMIZE\n",
      "40*A + 32*B + 35*C + 36*D + 0\n",
      "SUBJECT TO\n",
      "Prensagem: A + 1.5 B + 0.75 C + 1.25 D <= 650\n",
      "\n",
      "Refinacao: 2 A + 1.5 B + 2.5 C + 1.5 D <= 700\n",
      "\n",
      "Embalamento: 1.5 A + 1.25 B + 1.25 C + 1.5 D <= 700\n",
      "\n",
      "Minimo_De_Azeite_3: - C <= -100\n",
      "\n",
      "Minimo_De_Azeite_4: - D <= -50\n",
      "\n",
      "VARIABLES\n",
      "A Continuous\n",
      "B Continuous\n",
      "C Continuous\n",
      "D Continuous\n",
      "\n",
      "Lucro ótimo: 14300.0\n",
      "A: 0.00\n",
      "B: 0.00\n",
      "C: 100.00\n",
      "D: 300.00\n",
      "\n",
      "Prensagem\n",
      "Preço sombra: -0.0\n",
      "Refinacao\n",
      "Preço sombra: 24.0\n",
      "Embalamento\n",
      "Preço sombra: -0.0\n",
      "Minimo_De_Azeite_3\n",
      "Preço sombra: 25.0\n",
      "Minimo_De_Azeite_4\n",
      "Preço sombra: -0.0\n"
     ]
    }
   ],
   "source": [
    "import pulp\r\n",
    "\r\n",
    "model = pulp.LpProblem(\"PRESIDENTEQUISAZEITE\", pulp.LpMaximize)\r\n",
    "\r\n",
    "A = pulp.LpVariable(\"A\", lowBound = 0)\r\n",
    "B = pulp.LpVariable(\"B\", lowBound = 0)\r\n",
    "C = pulp.LpVariable(\"C\", lowBound = 0)\r\n",
    "D = pulp.LpVariable(\"D\", lowBound = 0)\r\n",
    "\r\n",
    "# FUNC OBJ\r\n",
    "model += 40*A + 32*B + 35*C + 36*D\r\n",
    "\r\n",
    "#RESTRI\r\n",
    "model += ((A + 1.5*B + 0.75*C + 1.25*D) <= 650, \"Prensagem\")\r\n",
    "model += ((2*A + 1.5*B + 2.5*C + 1.5*D) <= 700, \"Refinacao\")\r\n",
    "model += ((1.5*A + 1.25*B + 1.25*C + 1.5*D) <= 700, \"Embalamento\")\r\n",
    "model += ((-C) <= (-100), \"Minimo De Azeite 3\")\r\n",
    "model += ((-D) <= (-50), \"Minimo De Azeite 4\")\r\n",
    "\r\n",
    "print(model)\r\n",
    "\r\n",
    "otimo = model.solve()\r\n",
    "\r\n",
    "print(\"Lucro ótimo:\", pulp.value(model.objective))\r\n",
    "\r\n",
    "for var in model.variables():\r\n",
    "  print(\"%s: %.2f\" %(var.name, var.varValue))\r\n",
    "\r\n",
    "print()\r\n",
    "\r\n",
    "for nome, restricoes in list(model.constraints.items()):\r\n",
    "  print(nome)\r\n",
    "  print(\"Preço sombra:\", restricoes.pi)"
   ]
  },
  {
   "cell_type": "markdown",
   "metadata": {},
   "source": [
    "#### d) Se a empresa tivesse que produzir, pelo menos, 250000 litros de azeite tipo 3 e tipo 4, qual seria o esquema ótimo de produção?"
   ]
  },
  {
   "cell_type": "code",
   "execution_count": 24,
   "metadata": {},
   "outputs": [
    {
     "name": "stdout",
     "output_type": "stream",
     "text": [
      "\n",
      "MUITOAZEITECARA:\n",
      "MAXIMIZE\n",
      "40*A + 32*B + 35*C + 36*D + 0\n",
      "SUBJECT TO\n",
      "Prensagem: A + 1.5 B + 0.75 C + 1.25 D <= 650\n",
      "\n",
      "Refinacao: 2 A + 1.5 B + 2.5 C + 1.5 D <= 700\n",
      "\n",
      "Embalamento: 1.5 A + 1.25 B + 1.25 C + 1.5 D <= 700\n",
      "\n",
      "Producao_minima_de_C_e_D: - C - D <= -2500\n",
      "\n",
      "VARIABLES\n",
      "A Continuous\n",
      "B Continuous\n",
      "C Continuous\n",
      "D Continuous\n",
      "\n",
      "SOLUÇÃO OTIMA NAO ENCONTRADA!\n"
     ]
    }
   ],
   "source": [
    "import pulp\r\n",
    "\r\n",
    "model = pulp.LpProblem(\"MUITOAZEITECARA\", pulp.LpMaximize)\r\n",
    "\r\n",
    "A = pulp.LpVariable(\"A\", lowBound = 0)\r\n",
    "B = pulp.LpVariable(\"B\", lowBound = 0)\r\n",
    "C = pulp.LpVariable(\"C\", lowBound = 0)\r\n",
    "D = pulp.LpVariable(\"D\", lowBound = 0)\r\n",
    "\r\n",
    "# FUNC OBJ\r\n",
    "model += 40*A + 32*B + 35*C + 36*D\r\n",
    "\r\n",
    "#RESTRI\r\n",
    "model += ((A + 1.5*B + 0.75*C + 1.25*D) <= 650, \"Prensagem\")\r\n",
    "model += ((2*A + 1.5*B + 2.5*C + 1.5*D) <= 700, \"Refinacao\")\r\n",
    "model += ((1.5*A + 1.25*B + 1.25*C + 1.5*D) <= 700, \"Embalamento\")\r\n",
    "model += ((-C) - D <= (-2500), \"Producao_minima_de_C_e_D\")\r\n",
    "\r\n",
    "print()\r\n",
    "print(model)\r\n",
    "\r\n",
    "solucao = model.solve()\r\n",
    "\r\n",
    "if pulp.LpStatus[model.status] == 'Optimal':\r\n",
    "  print(\"Lucro ótimo:\", pulp.value(model.objective))\r\n",
    "\r\n",
    "  for var in model.variables():\r\n",
    "    print(\"%s: %.2f\" %(var.name, var.varValue))\r\n",
    "    print()\r\n",
    "    \r\n",
    "  print()\r\n",
    "\r\n",
    "  for nome, restricoes in list(model.constraints.items()):\r\n",
    "    print(nome, \"-> Preço sombra:\", restricoes.pi)\r\n",
    "    print()\r\n",
    "else:\r\n",
    "  print(\"SOLUÇÃO OTIMA NAO ENCONTRADA!\")"
   ]
  },
  {
   "cell_type": "markdown",
   "metadata": {},
   "source": [
    "#### e) Caso haja verba para investimento, em qual dos recursos você investiria? Qual o valor máximo a ser investido, considerando inviável a alteração no esquema ótimo de produção?"
   ]
  },
  {
   "cell_type": "code",
   "execution_count": null,
   "metadata": {},
   "outputs": [],
   "source": []
  }
<<<<<<< HEAD
 ],
 "metadata": {
  "interpreter": {
   "hash": "ac59ebe37160ed0dfa835113d9b8498d9f09ceb179beaac4002f036b9467c963"
  },
  "kernelspec": {
   "display_name": "Python 3.9.2 64-bit",
   "name": "python3"
  },
  "language_info": {
   "codemirror_mode": {
    "name": "ipython",
    "version": 3
   },
   "file_extension": ".py",
   "mimetype": "text/x-python",
   "name": "python",
   "nbconvert_exporter": "python",
   "pygments_lexer": "ipython3",
   "version": "3.9.2"
  },
  "orig_nbformat": 4
 },
 "nbformat": 4,
 "nbformat_minor": 2
}
=======
 ]
}
>>>>>>> 9815e7f7922fa196401789adc4066b179cd14605
