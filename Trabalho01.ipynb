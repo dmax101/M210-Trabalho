{
 "metadata": {
  "language_info": {
   "codemirror_mode": {
    "name": "ipython",
    "version": 3
   },
   "file_extension": ".py",
   "mimetype": "text/x-python",
   "name": "python",
   "nbconvert_exporter": "python",
   "pygments_lexer": "ipython3",
   "version": "3.8.6"
  },
  "orig_nbformat": 4,
  "kernelspec": {
   "name": "python3",
   "display_name": "Python 3.8.6 64-bit"
  },
  "interpreter": {
   "hash": "cb96c467eb985dcfc392ffb06268afceebc83924f1ff41db3c5d4f2ca3f3d58c"
  }
 },
 "nbformat": 4,
 "nbformat_minor": 2,
 "cells": [
  {
   "source": [
    "# Trabalho M210\n",
    "\n",
    "| Matricula | Alunos                      |\n",
    "|-----------|-----------------------------|\n",
    "| 1411      | Danilo Vidal Ribeiro        |\n",
    "| 9365      | Aryel Lopes de Almeida Lima |"
   ],
   "cell_type": "markdown",
   "metadata": {}
  },
  {
   "source": [
    "### Exercício 1\n",
    "A empresa de produção de azeite, Azei Tinho S/A, oferece quatro tipos de azeite ao cliente: azeite do tipo 1 (azeite extravirgem com porcentagem de ácido oleico inferior a 1%), azeite do tipo 2 (virgem, com acidez entre 1% e 2%), azeite do tipo 3 (corrente, com acidez entre 2% e 3.3%) e azeite do tipo 4 (com acidez superior a 3.3%, utilizado na área farmacêutica, cosmética, dentre outras).\n",
    "\n",
    "O processo produtivo de qualquer tipo de azeite é constituído por três etapas: prensagem, refino e embalagem, sendo que as respectivas limitações mensais são de 650, 700 e 700 horas-máquina (hm). Cem litros de azeite do tipo 1 necessitam de 1hm de prensagem, 2hm de refino e 1.5hm de embalagem. O azeite do tipo 2 necessita de 1.5, 1.5, 1.25hm respectivamente. O azeite do tipo 3 necessita de 0.75, 2.5, 1.25hm, respectivamente.\n",
    "\n",
    "Por fim, o azeite do tipo 4 precisa de 1.25, 1.5, 1.5hm, respectivamente. Devido à utilização diferente de cada uma das etapas do processo produtivo, cada tipo de azeite tem uma margem bruta diferente. Assim sendo, o azeite tipo 1 tem uma margem de R\\$40 para cada 100 litros, o azeite do tipo 2, de R\\$32, o azeite do tipo 3, de R\\$35 e o azeite do tipo 4, de R\\$36."
   ],
   "cell_type": "markdown",
   "metadata": {}
  },
  {
   "cell_type": "code",
   "execution_count": 19,
   "metadata": {},
   "outputs": [],
   "source": [
    "from pulp import LpMaximize, LpProblem, LpStatus, lpSum, LpVariable"
   ]
  },
  {
   "cell_type": "code",
   "execution_count": 20,
   "metadata": {},
   "outputs": [],
   "source": [
    "model = LpProblem(name=\"Azei Tinho S/A\", sense=LpMaximize)"
   ]
  },
  {
   "cell_type": "code",
   "execution_count": 21,
   "metadata": {},
   "outputs": [],
   "source": [
    "x1 = LpVariable(name=\"x1\", lowBound=0)\n",
    "x2 = LpVariable(name=\"x2\", lowBound=0)\n",
    "x3 = LpVariable(name=\"x3\", lowBound=0)\n",
    "x4 = LpVariable(name=\"x4\", lowBound=0)"
   ]
  },
  {
   "cell_type": "code",
   "execution_count": 22,
   "metadata": {},
   "outputs": [],
   "source": [
    "model += (100 * x1    +   150 * x2    +    75 * x3  +   125 * x4    <=  65000, \"con 01\")\n",
    "model += (200 * x1    +   150 * x2    +   250 * x3  +   150 * x4    <=  70000, \"con 02\")\n",
    "model += (150 * x1    +   125 * x2    +   125 * x3  +   150 * x4    <=  70000, \"con 03\")"
   ]
  },
  {
   "cell_type": "code",
   "execution_count": 23,
   "metadata": {},
   "outputs": [],
   "source": [
    "obj_func = 4000 * x1 + 3200 * x2 + 3500 * x3 +  3600 * x4\n",
    "model += obj_func"
   ]
  },
  {
   "cell_type": "code",
   "execution_count": 26,
   "metadata": {},
   "outputs": [
    {
     "output_type": "stream",
     "name": "stdout",
     "text": [
      "objective: 1680000.012\nx1: 0.0\nx2: 0.0\nx3: 0.0\nx4: 466.66667\ncon_01: -6666.666250000002\ncon_02: 0.0004999999946448952\ncon_03: 0.0004999999946448952\n"
     ]
    }
   ],
   "source": [
    "status = model.solve()\n",
    "\n",
    "print(f\"status: {model.status}, {LpStatus[model.status]}\")\n",
    "\n",
    "print(f\"objective: {model.objective.value()}\")\n",
    "\n",
    "for var in model.variables():\n",
    "    print(f\"{var.name}: {var.value()}\")\n",
    "\n",
    "for name, constraint in model.constraints.items():\n",
    "    print(f\"{name}: {constraint.value()}\")"
   ]
  },
  {
   "source": [
    "### Respostas\n",
    "#### a) Apresente o modelo matemático."
   ],
   "cell_type": "markdown",
   "metadata": {}
  },
  {
   "cell_type": "code",
   "execution_count": 25,
   "metadata": {},
   "outputs": [
    {
     "output_type": "execute_result",
     "data": {
      "text/plain": [
       "small-problem:\n",
       "MAXIMIZE\n",
       "4000*x1 + 3200*x2 + 3500*x3 + 3600*x4 + 0\n",
       "SUBJECT TO\n",
       "con_01: 100 x1 + 150 x2 + 75 x3 + 125 x4 <= 65000\n",
       "\n",
       "con_02: 200 x1 + 150 x2 + 250 x3 + 150 x4 <= 70000\n",
       "\n",
       "con_03: 150 x1 + 125 x2 + 125 x3 + 150 x4 <= 70000\n",
       "\n",
       "VARIABLES\n",
       "x1 Continuous\n",
       "x2 Continuous\n",
       "x3 Continuous\n",
       "x4 Continuous"
      ]
     },
     "metadata": {},
     "execution_count": 25
    }
   ],
   "source": [
    "# a)\n",
    "model"
   ]
  },
  {
   "source": [
    "#### b) Apresente a solução ótima."
   ],
   "cell_type": "markdown",
   "metadata": {}
  },
  {
   "cell_type": "code",
   "execution_count": 30,
   "metadata": {},
   "outputs": [
    {
     "output_type": "stream",
     "name": "stdout",
     "text": [
      "A solução ótima é:\n*Z = 1680000.012\nx1: 0.0\nx2: 0.0\nx3: 0.0\nx4: 466.66667\n"
     ]
    }
   ],
   "source": [
    "print(\"A solução ótima é:\")\n",
    "print(f\"*Z = {model.objective.value()}\")\n",
    "\n",
    "for var in model.variables():\n",
    "    print(f\"{var.name}: {var.value()}\")"
   ]
  },
  {
   "source": [
    "#### c) Considere agora que a empresa tenha que produzir uma quantidade maior de azeite devido a uma encomenda de última hora. Este cliente necessita de, pelo menos, 10000 litros de azeite tipo 3 e 5000 litros de azeite tipo 4. Reescreva a nova formulação matemática do problema, definindo cada variável utilizada."
   ],
   "cell_type": "markdown",
   "metadata": {}
  },
  {
   "cell_type": "code",
   "execution_count": null,
   "metadata": {},
   "outputs": [],
   "source": []
  },
  {
   "source": [
    "#### d) Se a empresa tivesse que produzir, pelo menos, 250000 litros de azeite tipo 3 e tipo 4, qual seria o esquema ótimo de produção?"
   ],
   "cell_type": "markdown",
   "metadata": {}
  },
  {
   "cell_type": "code",
   "execution_count": null,
   "metadata": {},
   "outputs": [],
   "source": []
  },
  {
   "source": [
    "#### e) Caso haja verba para investimento, em qual dos recursos você investiria? Qual o valor máximo a ser investido, considerando inviável a alteração no esquema ótimo de produção?"
   ],
   "cell_type": "markdown",
   "metadata": {}
  }
 ]
}
