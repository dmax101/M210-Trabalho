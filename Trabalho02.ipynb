{
 "cells": [
  {
   "cell_type": "markdown",
   "metadata": {},
   "source": [
    "# Trabalho M210\n",
    "\n",
    "| Matricula | Alunos                      |\n",
    "|-----------|-----------------------------|\n",
    "| 1411      | Danilo Vidal Ribeiro        |\n",
    "| 9365      | Aryel Lopes de Almeida Lima |"
<<<<<<< HEAD
   ]
=======
   ],
   "cell_type": "markdown",
   "metadata": {}
>>>>>>> 9815e7f7922fa196401789adc4066b179cd14605
  },
  {
   "cell_type": "markdown",
   "metadata": {},
   "source": [
    "### Exercício 2\n",
    "A Eléctron S.A produz quatro tipos de motores elétricos, cada um em uma linha de montagem separada. As capacidades respectivas das linhas são 500, 500, 800 e 750 motores por dia. O motor do tipo 1 usa oito unidades de um certo componente eletrônico, o motor do tipo 2 usa cinco unidades, o motor do tipo 3 usa quatro unidades e o motor do tipo 4 usa seis unidades. O fabricante do componente pode fornecer 8000 pecas por dia. ***Os lucros respectivos de cada tipo de motor são R\\$60, R\\$40, R\\$25 e R\\$30 por motor.***"
   ]
  },
  {
   "cell_type": "code",
   "execution_count": 9,
   "metadata": {},
   "outputs": [],
   "source": [
    "from pulp import LpMaximize, LpProblem, LpStatus, lpSum, LpVariable"
   ]
  },
  {
   "cell_type": "code",
   "execution_count": 10,
   "metadata": {},
   "outputs": [],
   "source": [
    "model = LpProblem(name=\"Electron_SA\", sense=LpMaximize)"
   ]
  },
  {
   "cell_type": "code",
   "execution_count": 11,
   "metadata": {},
   "outputs": [],
   "source": [
    "x1 = LpVariable(name=\"x1\", lowBound=0)\n",
    "x2 = LpVariable(name=\"x2\", lowBound=0)\n",
    "x3 = LpVariable(name=\"x3\", lowBound=0)\n",
    "x4 = LpVariable(name=\"x4\", lowBound=0)"
   ]
  },
  {
   "cell_type": "code",
   "execution_count": 12,
   "metadata": {},
   "outputs": [],
   "source": [
    "model += (1 * x1 + 0 * x2 + 0 * x3 + 0 * x4 <=  500, \"con 1\")\n",
    "model += (0 * x1 + 1 * x2 + 0 * x3 + 0 * x4 <=  500, \"con 2\")\n",
    "model += (0 * x1 + 0 * x2 + 1 * x3 + 0 * x4 <=  800, \"con 3\")\n",
    "model += (0 * x1 + 0 * x2 + 0 * x3 + 1 * x4 <=  750, \"con 4\")\n",
    "model += (8 * x1 + 5 * x2 + 4 * x3 + 6 * x4 <= 8000, \"con 5\")"
   ]
  },
  {
   "cell_type": "code",
   "execution_count": 13,
   "metadata": {},
   "outputs": [],
   "source": [
    "obj_func = 60 * x1 + 40 * x2 + 25 * x3 + 30 * x4\n",
    "model += obj_func"
   ]
  },
  {
   "cell_type": "code",
   "execution_count": 14,
   "metadata": {},
   "outputs": [
    {
     "name": "stdout",
     "output_type": "stream",
     "text": [
      "status: 1, Optimal\n",
      "objective: 59375.0\n",
      "x1: 500.0\n",
      "x2: 500.0\n",
      "x3: 375.0\n",
      "x4: 0.0\n",
      "con_1: 0.0\n",
      "con_2: 0.0\n",
      "con_3: -425.0\n",
      "con_4: -750.0\n",
      "con_5: 0.0\n"
     ]
    }
   ],
   "source": [
    "status = model.solve()\n",
    "\n",
    "print(f\"status: {model.status}, {LpStatus[model.status]}\")\n",
    "\n",
    "print(f\"objective: {model.objective.value()}\")\n",
    "\n",
    "for var in model.variables():\n",
    "    print(f\"{var.name}: {var.value()}\")\n",
    "\n",
    "for name, constraint in model.constraints.items():\n",
    "    print(f\"{name}: {constraint.value()}\")"
   ]
  },
  {
   "cell_type": "markdown",
   "metadata": {},
   "source": [
    "#### a) Determine o mix ótimo de produção diário."
   ]
  },
  {
   "cell_type": "code",
   "execution_count": 15,
   "metadata": {},
   "outputs": [
    {
     "name": "stdout",
     "output_type": "stream",
     "text": [
      "O mix ótimo de produção diária é:\n",
      "*Z = 59375.0\n",
      "x1: 500.0\n",
      "x2: 500.0\n",
      "x3: 375.0\n",
      "x4: 0.0\n"
     ]
    }
   ],
   "source": [
    "print(\"O mix ótimo de produção diária é:\")\n",
    "print(f\"*Z = {model.objective.value()}\")\n",
    "\n",
    "for var in model.variables():\n",
    "    print(f\"{var.name}: {var.value()}\")"
   ]
  },
  {
   "cell_type": "markdown",
   "metadata": {},
   "source": [
    "#### b) A atual programação de produção atende às necessidades da Eléctron. Contudo, devido a concorrência, pode ser que a empresa precise reduzir o preço do motor do tipo 2. Qual é a redução que pode ser efetuada sem alterar a programação da produção atual?"
   ]
  },
  {
   "cell_type": "code",
   "execution_count": 2,
   "metadata": {},
   "outputs": [
    {
     "name": "stdout",
     "output_type": "stream",
     "text": [
      "z* = 55005.0\n",
      "A* = 500.0\n",
      "B* = 500.0\n",
      "C* = 375.0\n",
      "D* = 0.0\n",
      "max_A - > preço_sombra = 10.0\n",
      "max_B - > preço_sombra = 0.01\n",
      "max_C - > preço_sombra = -0.0\n",
      "max_D - > preço_sombra = -0.0\n",
      "uso_componentes - > preço_sombra = 6.25\n"
     ]
    }
   ],
   "source": [
    "import pulp\r\n",
    "\r\n",
    "modeltwo = pulp.LpProblem(name=\"MODELO_MATEMATICO\", sense=pulp.LpMaximize)\r\n",
    "\r\n",
    "A = pulp.LpVariable(name=\"A\", lowBound=0)\r\n",
    "B = pulp.LpVariable(name=\"B\", lowBound=0)\r\n",
    "C = pulp.LpVariable(name=\"C\", lowBound=0)\r\n",
    "D = pulp.LpVariable(name=\"D\", lowBound=0)\r\n",
    "\r\n",
    "modeltwo += (A <= 500, \"max_A\")\r\n",
    "modeltwo += (B <= 500, \"max_B\")\r\n",
    "modeltwo+= (C <= 800, \"max_C\")\r\n",
    "modeltwo += (D <= 750, \"max_D\")\r\n",
    "modeltwo += (8*A + 5*B + 4*C + 6*D <= 8000, \"uso_componentes\")\r\n",
    "\r\n",
    "modeltwo += 60*A + 31.26*B + 25*C + 30*D\r\n",
    "\r\n",
    "modeltwo\r\n",
    "\r\n",
    "modeltwo.solve()\r\n",
    "print(f\"z* = {modeltwo.objective.value()}\")\r\n",
    "for var in modeltwo.variables():\r\n",
    "  print(f\"{var.name}* = {var.varValue}\")\r\n",
    "for name, c in list(modeltwo.constraints.items()):\r\n",
    "    print(name, \"- > preço_sombra =\", c.pi)\r\n"
   ]
  },
  {
   "cell_type": "markdown",
   "metadata": {},
   "source": [
    "#### c) A Eléctron S.A decidiu reduzir em 25% o preço de todos os tipos de motores. Use análise de sensibilidade para determinar se a solução ótima permanecerá inalterada."
   ]
  },
  {
   "cell_type": "code",
   "execution_count": 9,
   "metadata": {},
   "outputs": [
    {
     "name": "stdout",
     "output_type": "stream",
     "text": [
      "redução de 25%:\n",
      "z* = 44531.25\n",
      "A* = 500.0\n",
      "B* = 500.0\n",
      "C* = 375.0\n",
      "D* = 0.0\n",
      "max_A - > preço_sombra = 7.5\n",
      "max_B - > preço_sombra = 6.5625\n",
      "max_C - > preço_sombra = -0.0\n",
      "max_D - > preço_sombra = -0.0\n",
      "uso_componentes - > preço_sombra = 4.6875\n"
     ]
    }
   ],
   "source": [
    "import pulp\r\n",
    "\r\n",
    "model_redux = pulp.LpProblem(name=\"CHEGADA_CARROSELETRICOS\", sense=pulp.LpMaximize)\r\n",
    "\r\n",
    "A = pulp.LpVariable(name=\"A\", lowBound=0)\r\n",
    "B = pulp.LpVariable(name=\"B\", lowBound=0)\r\n",
    "C = pulp.LpVariable(name=\"C\", lowBound=0)\r\n",
    "D = pulp.LpVariable(name=\"D\", lowBound=0)\r\n",
    "\r\n",
    "model_redux += (A <= 500, \"max_A\")\r\n",
    "model_redux += (B <= 500, \"max_B\")\r\n",
    "model_redux += (C <= 800, \"max_C\")\r\n",
    "model_redux += (D <= 750, \"max_D\")\r\n",
    "model_redux += (8*A + 5*B + 4*C + 6*D <= 8000, \"uso_componentes\")\r\n",
    "\r\n",
    "model_redux += 45*A + 30*B + 18.75*C + 22.5*D\r\n",
    "\r\n",
    "model_redux.solve()\r\n",
    "\r\n",
    "print(\"redução de 25%:\")\r\n",
    "print(f\"z* = {model_redux.objective.value()}\")\r\n",
    "\r\n",
    "for var in model_redux.variables():\r\n",
    "  print(f\"{var.name}* = {var.varValue}\")\r\n",
    "for name, c in list(model_redux.constraints.items()):\r\n",
    "    print(name, \"- > preço_sombra =\", c.pi)\r\n"
   ]
  },
  {
   "cell_type": "code",
   "execution_count": 8,
   "metadata": {},
   "outputs": [
    {
     "name": "stdout",
     "output_type": "stream",
     "text": [
      "A SOLUCAO OTIMA NAO PERMANECE INALTERADA\n"
     ]
    }
   ],
   "source": [
    "print('A SOLUCAO OTIMA NAO PERMANECE INALTERADA')"
   ]
  },
  {
   "cell_type": "markdown",
   "metadata": {},
   "source": [
    "#### d) Atualmente, o motor do tipo 4 não é produzido. De quanto deveria ser o aumento no preço desse motor para ser incluído na programação de produção?"
   ]
  },
  {
   "cell_type": "code",
   "execution_count": 12,
   "metadata": {},
   "outputs": [
    {
     "name": "stdout",
     "output_type": "stream",
     "text": [
      " O aumento deveria ser de R$ 5.625\n"
     ]
    }
   ],
   "source": [
    "print(f\" O aumento deveria ser de R$ {model_redux.variables()[3].dj*-1}\")"
   ]
  }
<<<<<<< HEAD
 ],
 "metadata": {
  "interpreter": {
   "hash": "ac59ebe37160ed0dfa835113d9b8498d9f09ceb179beaac4002f036b9467c963"
  },
  "kernelspec": {
   "display_name": "Python 3.9.2 64-bit",
   "name": "python3"
  },
  "language_info": {
   "codemirror_mode": {
    "name": "ipython",
    "version": 3
   },
   "file_extension": ".py",
   "mimetype": "text/x-python",
   "name": "python",
   "nbconvert_exporter": "python",
   "pygments_lexer": "ipython3",
   "version": "3.9.2"
  },
  "orig_nbformat": 4
 },
 "nbformat": 4,
 "nbformat_minor": 2
}
=======
 ]
}
>>>>>>> 9815e7f7922fa196401789adc4066b179cd14605
