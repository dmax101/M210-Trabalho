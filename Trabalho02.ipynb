{
 "metadata": {
  "language_info": {
   "codemirror_mode": {
    "name": "ipython",
    "version": 3
   },
   "file_extension": ".py",
   "mimetype": "text/x-python",
   "name": "python",
   "nbconvert_exporter": "python",
   "pygments_lexer": "ipython3",
   "version": "3.8.6"
  },
  "orig_nbformat": 4,
  "kernelspec": {
   "name": "python3",
   "display_name": "Python 3.8.6 64-bit"
  },
  "interpreter": {
   "hash": "cb96c467eb985dcfc392ffb06268afceebc83924f1ff41db3c5d4f2ca3f3d58c"
  }
 },
 "nbformat": 4,
 "nbformat_minor": 2,
 "cells": [
  {
   "source": [
    "# Trabalho M210\n",
    "\n",
    "| Matricula | Alunos                      |\n",
    "|-----------|-----------------------------|\n",
    "| 1411      | Danilo Vidal Ribeiro        |\n",
    "| 9365      | Aryel Lopes de Almeida Lima |"
   ],
   "cell_type": "markdown",
   "metadata": {}
  },
  {
   "source": [
    "### Exercício 2\n",
    "A Eléctron S.A produz quatro tipos de motores elétricos, cada um em uma linha de montagem separada. As capacidades respectivas das linhas são 500, 500, 800 e 750 motores por dia. O motor do tipo 1 usa oito unidades de um certo componente eletrônico, o motor do tipo 2 usa cinco unidades, o motor do tipo 3 usa quatro unidades e o motor do tipo 4 usa seis unidades. O fabricante do componente pode fornecer 8000 pecas por dia. ***Os lucros respectivos de cada tipo de motor são R\\$60, R\\$40, R\\$25 e R\\$30 por motor.***"
   ],
   "cell_type": "markdown",
   "metadata": {}
  },
  {
   "source": [
    "from pulp import LpMaximize, LpProblem, LpStatus, lpSum, LpVariable"
   ],
   "cell_type": "code",
   "metadata": {},
   "execution_count": 9,
   "outputs": []
  },
  {
   "cell_type": "code",
   "execution_count": 10,
   "metadata": {},
   "outputs": [],
   "source": [
    "model = LpProblem(name=\"Electron_SA\", sense=LpMaximize)"
   ]
  },
  {
   "cell_type": "code",
   "execution_count": 11,
   "metadata": {},
   "outputs": [],
   "source": [
    "x1 = LpVariable(name=\"x1\", lowBound=0)\n",
    "x2 = LpVariable(name=\"x2\", lowBound=0)\n",
    "x3 = LpVariable(name=\"x3\", lowBound=0)\n",
    "x4 = LpVariable(name=\"x4\", lowBound=0)"
   ]
  },
  {
   "cell_type": "code",
   "execution_count": 12,
   "metadata": {},
   "outputs": [],
   "source": [
    "model += (1 * x1 + 0 * x2 + 0 * x3 + 0 * x4 <=  500, \"con 1\")\n",
    "model += (0 * x1 + 1 * x2 + 0 * x3 + 0 * x4 <=  500, \"con 2\")\n",
    "model += (0 * x1 + 0 * x2 + 1 * x3 + 0 * x4 <=  800, \"con 3\")\n",
    "model += (0 * x1 + 0 * x2 + 0 * x3 + 1 * x4 <=  750, \"con 4\")\n",
    "model += (8 * x1 + 5 * x2 + 4 * x3 + 6 * x4 <= 8000, \"con 5\")"
   ]
  },
  {
   "cell_type": "code",
   "execution_count": 13,
   "metadata": {},
   "outputs": [],
   "source": [
    "obj_func = 60 * x1 + 40 * x2 + 25 * x3 + 30 * x4\n",
    "model += obj_func"
   ]
  },
  {
   "cell_type": "code",
   "execution_count": 14,
   "metadata": {},
   "outputs": [
    {
     "output_type": "stream",
     "name": "stdout",
     "text": [
      "status: 1, Optimal\nobjective: 59375.0\nx1: 500.0\nx2: 500.0\nx3: 375.0\nx4: 0.0\ncon_1: 0.0\ncon_2: 0.0\ncon_3: -425.0\ncon_4: -750.0\ncon_5: 0.0\n"
     ]
    }
   ],
   "source": [
    "status = model.solve()\n",
    "\n",
    "print(f\"status: {model.status}, {LpStatus[model.status]}\")\n",
    "\n",
    "print(f\"objective: {model.objective.value()}\")\n",
    "\n",
    "for var in model.variables():\n",
    "    print(f\"{var.name}: {var.value()}\")\n",
    "\n",
    "for name, constraint in model.constraints.items():\n",
    "    print(f\"{name}: {constraint.value()}\")"
   ]
  },
  {
   "source": [
    "#### a) Determine o mix ótimo de produção diário."
   ],
   "cell_type": "markdown",
   "metadata": {}
  },
  {
   "cell_type": "code",
   "execution_count": 15,
   "metadata": {},
   "outputs": [
    {
     "output_type": "stream",
     "name": "stdout",
     "text": [
      "O mix ótimo de produção diária é:\n*Z = 59375.0\nx1: 500.0\nx2: 500.0\nx3: 375.0\nx4: 0.0\n"
     ]
    }
   ],
   "source": [
    "print(\"O mix ótimo de produção diária é:\")\n",
    "print(f\"*Z = {model.objective.value()}\")\n",
    "\n",
    "for var in model.variables():\n",
    "    print(f\"{var.name}: {var.value()}\")"
   ]
  },
  {
   "source": [
    "#### b) A atual programação de produção atende às necessidades da Eléctron. Contudo, devido a concorrência, pode ser que a empresa precise reduzir o preço do motor do tipo 2. Qual é a redução que pode ser efetuada sem alterar a programação da produção atual?"
   ],
   "cell_type": "markdown",
   "metadata": {}
  },
  {
   "source": [
    "#### c) A Eléctron S.A decidiu reduzir em 25% o preço de todos os tipos de motores. Use análise de sensibilidade para determinar se a solução ótima permanecerá inalterada."
   ],
   "cell_type": "markdown",
   "metadata": {}
  },
  {
   "source": [
    "#### d) Atualmente, o motor do tipo 4 não é produzido. De quanto deveria ser o aumento no preço desse motor para ser incluído na programação de produção?"
   ],
   "cell_type": "markdown",
   "metadata": {}
  }
 ]
}
